{
  "nbformat": 4,
  "nbformat_minor": 0,
  "metadata": {
    "colab": {
      "name": "Nback_jsPsych_analysis.ipynb",
      "provenance": [],
      "collapsed_sections": [],
      "include_colab_link": true
    },
    "kernelspec": {
      "name": "python3",
      "display_name": "Python 3"
    }
  },
  "cells": [
    {
      "cell_type": "markdown",
      "metadata": {
        "id": "view-in-github",
        "colab_type": "text"
      },
      "source": [
        "<a href=\"https://colab.research.google.com/github/vekteo/Nback_jsPsych/blob/main/Nback_jsPsych_analysis.ipynb\" target=\"_parent\"><img src=\"https://colab.research.google.com/assets/colab-badge.svg\" alt=\"Open In Colab\"/></a>"
      ]
    },
    {
      "cell_type": "markdown",
      "metadata": {
        "id": "updRtcun9y_I"
      },
      "source": [
        "# **Code for preprocessing the N-back task (jsPsych)**\n",
        "\n",
        "1. Click the FOLDER ikon in the left column (last icon)\n",
        "2. In the opening window, click the UPLOAD icon (first icon) (if another window opens before this step, click OK)\n",
        "3. In the opening window, choose the N-back outputs for the upload (e.g., \"_Subject_01_Session_1_output.csv\")\n",
        "4. Run the coe with the Runtime --> Run all option\n",
        "5. If the code runs correctly, it will download a .csv file to your local machine\n",
        "---\n",
        "\n",
        "\n",
        "\n",
        "---\n",
        "\n"
      ]
    },
    {
      "cell_type": "markdown",
      "metadata": {
        "id": "HeyWvswL9vo4"
      },
      "source": [
        "# Importing Python packages"
      ]
    },
    {
      "cell_type": "code",
      "metadata": {
        "id": "Hsnjbcjh9uli"
      },
      "source": [
        "import glob\n",
        "import seaborn as sns; sns.set()\n",
        "import matplotlib.pyplot as plt\n",
        "import pandas as pd\n",
        "import os\n",
        "import numpy as np\n",
        "from google.colab import files"
      ],
      "execution_count": null,
      "outputs": []
    },
    {
      "cell_type": "markdown",
      "metadata": {
        "id": "53ZCkp4p96Yo"
      },
      "source": [
        "# Loading datasets"
      ]
    },
    {
      "cell_type": "code",
      "metadata": {
        "id": "p1qyoNlwF-Ak",
        "colab": {
          "base_uri": "https://localhost:8080/"
        },
        "outputId": "545d9322-4a9b-4ae2-a0a6-9d46e88ccbed"
      },
      "source": [
        "# get data file names\n",
        "filenames = [f for f in os.listdir() if f.endswith('.csv')]\n",
        "print(filenames)\n",
        "dfs = []\n",
        "for filename in filenames:\n",
        "    dfs.append(pd.read_csv(filename, encoding='ISO-8859-1'))\n",
        "\n",
        "# Concatenate all data into one DataFrame\n",
        "big_frame = pd.concat(dfs, ignore_index=True)"
      ],
      "execution_count": null,
      "outputs": [
        {
          "output_type": "stream",
          "name": "stdout",
          "text": [
            "['2_back_1.csv', '2_back_7.csv', '2_back_5.csv', '2_back_8.csv', '2_back_6.csv', '2_back_3.csv', '2_back_4.csv', '2_back_2.csv']\n"
          ]
        },
        {
          "output_type": "stream",
          "name": "stderr",
          "text": [
            "/usr/local/lib/python3.7/dist-packages/IPython/core/interactiveshell.py:2718: DtypeWarning: Columns (0) have mixed types.Specify dtype option on import or set low_memory=False.\n",
            "  interactivity=interactivity, compiler=compiler, result=result)\n"
          ]
        }
      ]
    },
    {
      "cell_type": "markdown",
      "metadata": {
        "id": "HO2xROqJ-BWJ"
      },
      "source": [
        "# Calculating"
      ]
    },
    {
      "cell_type": "code",
      "metadata": {
        "id": "OUplx6gzGyXA",
        "colab": {
          "base_uri": "https://localhost:8080/",
          "height": 240
        },
        "outputId": "12bcd15e-1ea5-49d2-8b61-4f56a7c6c6ff"
      },
      "source": [
        "#leave only the important columns\n",
        "df = big_frame.loc[:, ['Participant Public ID', 'STAT_nr_hit','STAT_nr_miss','STAT_nr_false_alarm','STAT_nr_correct_rejection','STAT_nr_response','STAT_nr_no_response','STAT_accuracy','STAT_rt_mean','STAT_rt_median','STAT_hit_rt_mean','STAT_hit_rt_median','STAT_false_alarm_rt_mean','STAT_false_alarm_rt_median','STAT_correct_rejection_rt_mean','STAT_correct_rejection_rt_median','STAT_miss_rt_mean','STAT_miss_rt_median','STAT_dprime']]\n",
        "df.head()"
      ],
      "execution_count": null,
      "outputs": [
        {
          "output_type": "execute_result",
          "data": {
            "text/html": [
              "<div>\n",
              "<style scoped>\n",
              "    .dataframe tbody tr th:only-of-type {\n",
              "        vertical-align: middle;\n",
              "    }\n",
              "\n",
              "    .dataframe tbody tr th {\n",
              "        vertical-align: top;\n",
              "    }\n",
              "\n",
              "    .dataframe thead th {\n",
              "        text-align: right;\n",
              "    }\n",
              "</style>\n",
              "<table border=\"1\" class=\"dataframe\">\n",
              "  <thead>\n",
              "    <tr style=\"text-align: right;\">\n",
              "      <th></th>\n",
              "      <th>Participant Public ID</th>\n",
              "      <th>STAT_nr_hit</th>\n",
              "      <th>STAT_nr_miss</th>\n",
              "      <th>STAT_nr_false_alarm</th>\n",
              "      <th>STAT_nr_correct_rejection</th>\n",
              "      <th>STAT_nr_response</th>\n",
              "      <th>STAT_nr_no_response</th>\n",
              "      <th>STAT_accuracy</th>\n",
              "      <th>STAT_rt_mean</th>\n",
              "      <th>STAT_rt_median</th>\n",
              "      <th>STAT_hit_rt_mean</th>\n",
              "      <th>STAT_hit_rt_median</th>\n",
              "      <th>STAT_false_alarm_rt_mean</th>\n",
              "      <th>STAT_false_alarm_rt_median</th>\n",
              "      <th>STAT_correct_rejection_rt_mean</th>\n",
              "      <th>STAT_correct_rejection_rt_median</th>\n",
              "      <th>STAT_miss_rt_mean</th>\n",
              "      <th>STAT_miss_rt_median</th>\n",
              "      <th>STAT_dprime</th>\n",
              "    </tr>\n",
              "  </thead>\n",
              "  <tbody>\n",
              "    <tr>\n",
              "      <th>0</th>\n",
              "      <td>15hztkyv</td>\n",
              "      <td>NaN</td>\n",
              "      <td>NaN</td>\n",
              "      <td>NaN</td>\n",
              "      <td>NaN</td>\n",
              "      <td>NaN</td>\n",
              "      <td>NaN</td>\n",
              "      <td>NaN</td>\n",
              "      <td>NaN</td>\n",
              "      <td>NaN</td>\n",
              "      <td>NaN</td>\n",
              "      <td>NaN</td>\n",
              "      <td>NaN</td>\n",
              "      <td>NaN</td>\n",
              "      <td>NaN</td>\n",
              "      <td>NaN</td>\n",
              "      <td>NaN</td>\n",
              "      <td>NaN</td>\n",
              "      <td>NaN</td>\n",
              "    </tr>\n",
              "    <tr>\n",
              "      <th>1</th>\n",
              "      <td>15hztkyv</td>\n",
              "      <td>NaN</td>\n",
              "      <td>NaN</td>\n",
              "      <td>NaN</td>\n",
              "      <td>NaN</td>\n",
              "      <td>NaN</td>\n",
              "      <td>NaN</td>\n",
              "      <td>NaN</td>\n",
              "      <td>NaN</td>\n",
              "      <td>NaN</td>\n",
              "      <td>NaN</td>\n",
              "      <td>NaN</td>\n",
              "      <td>NaN</td>\n",
              "      <td>NaN</td>\n",
              "      <td>NaN</td>\n",
              "      <td>NaN</td>\n",
              "      <td>NaN</td>\n",
              "      <td>NaN</td>\n",
              "      <td>NaN</td>\n",
              "    </tr>\n",
              "    <tr>\n",
              "      <th>2</th>\n",
              "      <td>15hztkyv</td>\n",
              "      <td>NaN</td>\n",
              "      <td>NaN</td>\n",
              "      <td>NaN</td>\n",
              "      <td>NaN</td>\n",
              "      <td>NaN</td>\n",
              "      <td>NaN</td>\n",
              "      <td>NaN</td>\n",
              "      <td>NaN</td>\n",
              "      <td>NaN</td>\n",
              "      <td>NaN</td>\n",
              "      <td>NaN</td>\n",
              "      <td>NaN</td>\n",
              "      <td>NaN</td>\n",
              "      <td>NaN</td>\n",
              "      <td>NaN</td>\n",
              "      <td>NaN</td>\n",
              "      <td>NaN</td>\n",
              "      <td>NaN</td>\n",
              "    </tr>\n",
              "    <tr>\n",
              "      <th>3</th>\n",
              "      <td>15hztkyv</td>\n",
              "      <td>NaN</td>\n",
              "      <td>NaN</td>\n",
              "      <td>NaN</td>\n",
              "      <td>NaN</td>\n",
              "      <td>NaN</td>\n",
              "      <td>NaN</td>\n",
              "      <td>NaN</td>\n",
              "      <td>NaN</td>\n",
              "      <td>NaN</td>\n",
              "      <td>NaN</td>\n",
              "      <td>NaN</td>\n",
              "      <td>NaN</td>\n",
              "      <td>NaN</td>\n",
              "      <td>NaN</td>\n",
              "      <td>NaN</td>\n",
              "      <td>NaN</td>\n",
              "      <td>NaN</td>\n",
              "      <td>NaN</td>\n",
              "    </tr>\n",
              "    <tr>\n",
              "      <th>4</th>\n",
              "      <td>15hztkyv</td>\n",
              "      <td>NaN</td>\n",
              "      <td>NaN</td>\n",
              "      <td>NaN</td>\n",
              "      <td>NaN</td>\n",
              "      <td>NaN</td>\n",
              "      <td>NaN</td>\n",
              "      <td>NaN</td>\n",
              "      <td>NaN</td>\n",
              "      <td>NaN</td>\n",
              "      <td>NaN</td>\n",
              "      <td>NaN</td>\n",
              "      <td>NaN</td>\n",
              "      <td>NaN</td>\n",
              "      <td>NaN</td>\n",
              "      <td>NaN</td>\n",
              "      <td>NaN</td>\n",
              "      <td>NaN</td>\n",
              "      <td>NaN</td>\n",
              "    </tr>\n",
              "  </tbody>\n",
              "</table>\n",
              "</div>"
            ],
            "text/plain": [
              "  Participant Public ID  STAT_nr_hit  ...  STAT_miss_rt_median  STAT_dprime\n",
              "0              15hztkyv          NaN  ...                  NaN          NaN\n",
              "1              15hztkyv          NaN  ...                  NaN          NaN\n",
              "2              15hztkyv          NaN  ...                  NaN          NaN\n",
              "3              15hztkyv          NaN  ...                  NaN          NaN\n",
              "4              15hztkyv          NaN  ...                  NaN          NaN\n",
              "\n",
              "[5 rows x 19 columns]"
            ]
          },
          "metadata": {},
          "execution_count": 8
        }
      ]
    },
    {
      "cell_type": "code",
      "metadata": {
        "id": "KELjXybdHxvS",
        "colab": {
          "base_uri": "https://localhost:8080/",
          "height": 240
        },
        "outputId": "cef4ae2b-3297-467c-dde9-f17201f4d969"
      },
      "source": [
        "#drop instruction, feedback trials\n",
        "df = df.dropna(subset=['STAT_dprime'])\n",
        "df.head()"
      ],
      "execution_count": null,
      "outputs": [
        {
          "output_type": "execute_result",
          "data": {
            "text/html": [
              "<div>\n",
              "<style scoped>\n",
              "    .dataframe tbody tr th:only-of-type {\n",
              "        vertical-align: middle;\n",
              "    }\n",
              "\n",
              "    .dataframe tbody tr th {\n",
              "        vertical-align: top;\n",
              "    }\n",
              "\n",
              "    .dataframe thead th {\n",
              "        text-align: right;\n",
              "    }\n",
              "</style>\n",
              "<table border=\"1\" class=\"dataframe\">\n",
              "  <thead>\n",
              "    <tr style=\"text-align: right;\">\n",
              "      <th></th>\n",
              "      <th>Participant Public ID</th>\n",
              "      <th>STAT_nr_hit</th>\n",
              "      <th>STAT_nr_miss</th>\n",
              "      <th>STAT_nr_false_alarm</th>\n",
              "      <th>STAT_nr_correct_rejection</th>\n",
              "      <th>STAT_nr_response</th>\n",
              "      <th>STAT_nr_no_response</th>\n",
              "      <th>STAT_accuracy</th>\n",
              "      <th>STAT_rt_mean</th>\n",
              "      <th>STAT_rt_median</th>\n",
              "      <th>STAT_hit_rt_mean</th>\n",
              "      <th>STAT_hit_rt_median</th>\n",
              "      <th>STAT_false_alarm_rt_mean</th>\n",
              "      <th>STAT_false_alarm_rt_median</th>\n",
              "      <th>STAT_correct_rejection_rt_mean</th>\n",
              "      <th>STAT_correct_rejection_rt_median</th>\n",
              "      <th>STAT_miss_rt_mean</th>\n",
              "      <th>STAT_miss_rt_median</th>\n",
              "      <th>STAT_dprime</th>\n",
              "    </tr>\n",
              "  </thead>\n",
              "  <tbody>\n",
              "    <tr>\n",
              "      <th>236</th>\n",
              "      <td>15hztkyv</td>\n",
              "      <td>16.0</td>\n",
              "      <td>4.0</td>\n",
              "      <td>7.0</td>\n",
              "      <td>71.0</td>\n",
              "      <td>98.0</td>\n",
              "      <td>2.0</td>\n",
              "      <td>98.0</td>\n",
              "      <td>807.0</td>\n",
              "      <td>779.0</td>\n",
              "      <td>799.0</td>\n",
              "      <td>806.0</td>\n",
              "      <td>680.0</td>\n",
              "      <td>658.0</td>\n",
              "      <td>817.0</td>\n",
              "      <td>780.0</td>\n",
              "      <td>881.0</td>\n",
              "      <td>804.0</td>\n",
              "      <td>2.183957</td>\n",
              "    </tr>\n",
              "    <tr>\n",
              "      <th>474</th>\n",
              "      <td>bj8l5rz6</td>\n",
              "      <td>4.0</td>\n",
              "      <td>16.0</td>\n",
              "      <td>18.0</td>\n",
              "      <td>62.0</td>\n",
              "      <td>100.0</td>\n",
              "      <td>0.0</td>\n",
              "      <td>73.0</td>\n",
              "      <td>130.0</td>\n",
              "      <td>115.0</td>\n",
              "      <td>108.0</td>\n",
              "      <td>73.0</td>\n",
              "      <td>93.0</td>\n",
              "      <td>62.0</td>\n",
              "      <td>130.0</td>\n",
              "      <td>139.0</td>\n",
              "      <td>175.0</td>\n",
              "      <td>133.0</td>\n",
              "      <td>-0.086206</td>\n",
              "    </tr>\n",
              "    <tr>\n",
              "      <th>712</th>\n",
              "      <td>y3jvjg83</td>\n",
              "      <td>13.0</td>\n",
              "      <td>6.0</td>\n",
              "      <td>2.0</td>\n",
              "      <td>76.0</td>\n",
              "      <td>97.0</td>\n",
              "      <td>3.0</td>\n",
              "      <td>102.0</td>\n",
              "      <td>535.0</td>\n",
              "      <td>491.0</td>\n",
              "      <td>582.0</td>\n",
              "      <td>605.0</td>\n",
              "      <td>614.0</td>\n",
              "      <td>614.0</td>\n",
              "      <td>532.0</td>\n",
              "      <td>483.0</td>\n",
              "      <td>434.0</td>\n",
              "      <td>414.0</td>\n",
              "      <td>2.428618</td>\n",
              "    </tr>\n",
              "    <tr>\n",
              "      <th>950</th>\n",
              "      <td>lqlipqbl</td>\n",
              "      <td>12.0</td>\n",
              "      <td>8.0</td>\n",
              "      <td>12.0</td>\n",
              "      <td>67.0</td>\n",
              "      <td>99.0</td>\n",
              "      <td>1.0</td>\n",
              "      <td>89.0</td>\n",
              "      <td>523.0</td>\n",
              "      <td>504.0</td>\n",
              "      <td>502.0</td>\n",
              "      <td>509.0</td>\n",
              "      <td>647.0</td>\n",
              "      <td>607.0</td>\n",
              "      <td>510.0</td>\n",
              "      <td>493.0</td>\n",
              "      <td>480.0</td>\n",
              "      <td>328.0</td>\n",
              "      <td>1.281671</td>\n",
              "    </tr>\n",
              "    <tr>\n",
              "      <th>1188</th>\n",
              "      <td>kl9e5g5a</td>\n",
              "      <td>14.0</td>\n",
              "      <td>6.0</td>\n",
              "      <td>5.0</td>\n",
              "      <td>75.0</td>\n",
              "      <td>100.0</td>\n",
              "      <td>0.0</td>\n",
              "      <td>98.0</td>\n",
              "      <td>518.0</td>\n",
              "      <td>430.0</td>\n",
              "      <td>816.0</td>\n",
              "      <td>671.0</td>\n",
              "      <td>752.0</td>\n",
              "      <td>823.0</td>\n",
              "      <td>448.0</td>\n",
              "      <td>409.0</td>\n",
              "      <td>505.0</td>\n",
              "      <td>422.0</td>\n",
              "      <td>2.058521</td>\n",
              "    </tr>\n",
              "  </tbody>\n",
              "</table>\n",
              "</div>"
            ],
            "text/plain": [
              "     Participant Public ID  STAT_nr_hit  ...  STAT_miss_rt_median  STAT_dprime\n",
              "236               15hztkyv         16.0  ...                804.0     2.183957\n",
              "474               bj8l5rz6          4.0  ...                133.0    -0.086206\n",
              "712               y3jvjg83         13.0  ...                414.0     2.428618\n",
              "950               lqlipqbl         12.0  ...                328.0     1.281671\n",
              "1188              kl9e5g5a         14.0  ...                422.0     2.058521\n",
              "\n",
              "[5 rows x 19 columns]"
            ]
          },
          "metadata": {},
          "execution_count": 9
        }
      ]
    },
    {
      "cell_type": "code",
      "metadata": {
        "id": "S_ZSBJiC28ZA",
        "colab": {
          "base_uri": "https://localhost:8080/",
          "height": 17
        },
        "outputId": "d8b1fd34-dbe8-476d-c36d-fc90d6e1af50"
      },
      "source": [
        "#save data\n",
        "df.to_csv(\"nback.csv\",index=False)\n",
        "files.download(\"nback.csv\")"
      ],
      "execution_count": null,
      "outputs": [
        {
          "output_type": "display_data",
          "data": {
            "application/javascript": [
              "\n",
              "    async function download(id, filename, size) {\n",
              "      if (!google.colab.kernel.accessAllowed) {\n",
              "        return;\n",
              "      }\n",
              "      const div = document.createElement('div');\n",
              "      const label = document.createElement('label');\n",
              "      label.textContent = `Downloading \"${filename}\": `;\n",
              "      div.appendChild(label);\n",
              "      const progress = document.createElement('progress');\n",
              "      progress.max = size;\n",
              "      div.appendChild(progress);\n",
              "      document.body.appendChild(div);\n",
              "\n",
              "      const buffers = [];\n",
              "      let downloaded = 0;\n",
              "\n",
              "      const channel = await google.colab.kernel.comms.open(id);\n",
              "      // Send a message to notify the kernel that we're ready.\n",
              "      channel.send({})\n",
              "\n",
              "      for await (const message of channel.messages) {\n",
              "        // Send a message to notify the kernel that we're ready.\n",
              "        channel.send({})\n",
              "        if (message.buffers) {\n",
              "          for (const buffer of message.buffers) {\n",
              "            buffers.push(buffer);\n",
              "            downloaded += buffer.byteLength;\n",
              "            progress.value = downloaded;\n",
              "          }\n",
              "        }\n",
              "      }\n",
              "      const blob = new Blob(buffers, {type: 'application/binary'});\n",
              "      const a = document.createElement('a');\n",
              "      a.href = window.URL.createObjectURL(blob);\n",
              "      a.download = filename;\n",
              "      div.appendChild(a);\n",
              "      a.click();\n",
              "      div.remove();\n",
              "    }\n",
              "  "
            ],
            "text/plain": [
              "<IPython.core.display.Javascript object>"
            ]
          },
          "metadata": {}
        },
        {
          "output_type": "display_data",
          "data": {
            "application/javascript": [
              "download(\"download_73aa0e87-efda-42fc-9300-2f44e06844c0\", \"nback.csv\", 42819)"
            ],
            "text/plain": [
              "<IPython.core.display.Javascript object>"
            ]
          },
          "metadata": {}
        }
      ]
    }
  ]
}